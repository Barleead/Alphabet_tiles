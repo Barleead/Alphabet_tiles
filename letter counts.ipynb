{
 "cells": [
  {
   "cell_type": "markdown",
   "metadata": {},
   "source": [
    "**program to count the number of distinct letters in a string**"
   ]
  },
  {
   "cell_type": "code",
   "execution_count": null,
   "metadata": {},
   "outputs": [],
   "source": [
    "def count_distinct_letters(input_string):\n",
    "\n",
    "  letters = {}\n",
    "  for letter in input_string:\n",
    "    if letter not in letters:\n",
    "      letters[letter] = 0\n",
    "    letters[letter] += 1\n",
    "  return letters\n",
    "\n",
    "\n",
    "def main():\n",
    "\n",
    "  input_string = input(\"Enter a string: \")\n",
    "  letters = count_distinct_letters(input_string)\n",
    "\n",
    "  for letter, count in letters.items():\n",
    "    print(f\"{letter}: {count}\")\n",
    "\n",
    "\n",
    "if __name__ == \"__main__\":\n",
    "  main()"
   ]
  }
 ],
 "metadata": {
  "language_info": {
   "name": "python"
  }
 },
 "nbformat": 4,
 "nbformat_minor": 2
}
